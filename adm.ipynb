{
 "cells": [
  {
   "cell_type": "code",
   "execution_count": 19,
   "metadata": {},
   "outputs": [],
   "source": [
    "import pandas as pd\n",
    "import numpy as np\n",
    "import matplotlib.pyplot as plt\n"
   ]
  },
  {
   "cell_type": "code",
   "execution_count": 20,
   "metadata": {},
   "outputs": [
    {
     "name": "stdout",
     "output_type": "stream",
     "text": [
      "<class 'pandas.core.frame.DataFrame'>\n",
      "RangeIndex: 58976 entries, 0 to 58975\n",
      "Data columns (total 19 columns):\n",
      "ROW_ID                  58976 non-null int64\n",
      "SUBJECT_ID              58976 non-null int64\n",
      "HADM_ID                 58976 non-null int64\n",
      "ADMITTIME               58976 non-null object\n",
      "DISCHTIME               58976 non-null object\n",
      "DEATHTIME               5854 non-null object\n",
      "ADMISSION_TYPE          58976 non-null object\n",
      "ADMISSION_LOCATION      58976 non-null object\n",
      "DISCHARGE_LOCATION      58976 non-null object\n",
      "INSURANCE               58976 non-null object\n",
      "LANGUAGE                33644 non-null object\n",
      "RELIGION                58518 non-null object\n",
      "MARITAL_STATUS          48848 non-null object\n",
      "ETHNICITY               58976 non-null object\n",
      "EDREGTIME               30877 non-null object\n",
      "EDOUTTIME               30877 non-null object\n",
      "DIAGNOSIS               58951 non-null object\n",
      "HOSPITAL_EXPIRE_FLAG    58976 non-null int64\n",
      "HAS_CHARTEVENTS_DATA    58976 non-null int64\n",
      "dtypes: int64(5), object(14)\n",
      "memory usage: 8.5+ MB\n"
     ]
    }
   ],
   "source": [
    "df = pd.read_csv('files/admissions.csv')\n",
    "#df_N = pd.read_csv('patients.csv')\n",
    "df.info()"
   ]
  },
  {
   "cell_type": "code",
   "execution_count": 21,
   "metadata": {},
   "outputs": [
    {
     "data": {
      "text/plain": [
       "46520"
      ]
     },
     "execution_count": 21,
     "metadata": {},
     "output_type": "execute_result"
    }
   ],
   "source": [
    "df['SUBJECT_ID'].nunique()"
   ]
  },
  {
   "cell_type": "code",
   "execution_count": 22,
   "metadata": {},
   "outputs": [
    {
     "data": {
      "text/html": [
       "<div>\n",
       "<style scoped>\n",
       "    .dataframe tbody tr th:only-of-type {\n",
       "        vertical-align: middle;\n",
       "    }\n",
       "\n",
       "    .dataframe tbody tr th {\n",
       "        vertical-align: top;\n",
       "    }\n",
       "\n",
       "    .dataframe thead th {\n",
       "        text-align: right;\n",
       "    }\n",
       "</style>\n",
       "<table border=\"1\" class=\"dataframe\">\n",
       "  <thead>\n",
       "    <tr style=\"text-align: right;\">\n",
       "      <th></th>\n",
       "      <th>ADMITTIME</th>\n",
       "      <th>DISCHTIME</th>\n",
       "      <th>LOS</th>\n",
       "    </tr>\n",
       "  </thead>\n",
       "  <tbody>\n",
       "    <tr>\n",
       "      <td>0</td>\n",
       "      <td>2196-04-09 12:26:00</td>\n",
       "      <td>2196-04-10 15:54:00</td>\n",
       "      <td>1.144444</td>\n",
       "    </tr>\n",
       "    <tr>\n",
       "      <td>1</td>\n",
       "      <td>2153-09-03 07:15:00</td>\n",
       "      <td>2153-09-08 19:10:00</td>\n",
       "      <td>5.496528</td>\n",
       "    </tr>\n",
       "    <tr>\n",
       "      <td>2</td>\n",
       "      <td>2157-10-18 19:34:00</td>\n",
       "      <td>2157-10-25 14:00:00</td>\n",
       "      <td>6.768056</td>\n",
       "    </tr>\n",
       "    <tr>\n",
       "      <td>3</td>\n",
       "      <td>2139-06-06 16:14:00</td>\n",
       "      <td>2139-06-09 12:48:00</td>\n",
       "      <td>2.856944</td>\n",
       "    </tr>\n",
       "    <tr>\n",
       "      <td>4</td>\n",
       "      <td>2160-11-02 02:06:00</td>\n",
       "      <td>2160-11-05 14:55:00</td>\n",
       "      <td>3.534028</td>\n",
       "    </tr>\n",
       "  </tbody>\n",
       "</table>\n",
       "</div>"
      ],
      "text/plain": [
       "            ADMITTIME           DISCHTIME       LOS\n",
       "0 2196-04-09 12:26:00 2196-04-10 15:54:00  1.144444\n",
       "1 2153-09-03 07:15:00 2153-09-08 19:10:00  5.496528\n",
       "2 2157-10-18 19:34:00 2157-10-25 14:00:00  6.768056\n",
       "3 2139-06-06 16:14:00 2139-06-09 12:48:00  2.856944\n",
       "4 2160-11-02 02:06:00 2160-11-05 14:55:00  3.534028"
      ]
     },
     "execution_count": 22,
     "metadata": {},
     "output_type": "execute_result"
    }
   ],
   "source": [
    "df['ADMITTIME'] = pd.to_datetime(df['ADMITTIME'],dayfirst=True)\n",
    "df['DISCHTIME'] = pd.to_datetime(df['DISCHTIME'],dayfirst=True)\n",
    "\n",
    "# Convert timedelta type into float 'days', 86400 seconds in a day\n",
    "df['LOS'] = (df['DISCHTIME'] - df['ADMITTIME']).dt.total_seconds()/86400\n",
    "df[['ADMITTIME', 'DISCHTIME', 'LOS']].head()"
   ]
  },
  {
   "cell_type": "code",
   "execution_count": 23,
   "metadata": {},
   "outputs": [],
   "source": [
    "#df_N = df_N[['SUBJECT_ID', 'DOB', 'GENDER']]\n",
    "#df = df.merge(df_N, how='outer', on='SUBJECT_ID')\n",
    "#df_age_min = df[['SUBJECT_ID', 'ADMITTIME']].groupby('SUBJECT_ID').min().reset_index()\n",
    "#df_age_min.columns = ['SUBJECT_ID', 'MIN_ADMIT']\n",
    "#df = pd.merge(df, df_age_min, how='outer', on='SUBJECT_ID')\n",
    "#df['MIN_ADMIT'] = pd.to_datetime(df['MIN_ADMIT']).dt.date\n",
    "#df['MIN_ADMIT'] = pd.to_datetime(df['MIN_ADMIT'])\n",
    "#df['DOB'] = pd.to_datetime(df['DOB'])\n",
    "#df['age'] = df.apply(lambda e: (e['MIN_ADMIT'] - e['DOB']).days//365, axis=1)\n",
    "#df['age'] = np.where(df['age'] >89, 90, df['age'])\n",
    "#df['HADM_ID'][df['age']<15].nunique()"
   ]
  },
  {
   "cell_type": "code",
   "execution_count": 24,
   "metadata": {},
   "outputs": [],
   "source": [
    "#df_N = df_N[['SUBJECT_ID', 'DOB', 'GENDER']]\n",
    "#df = df.merge(df_N, how='outer', on='SUBJECT_ID')\n",
    "#df_N['GENDER'].replace({'M': 0, 'F':1}, inplace=True)\n",
    "#df['SUBJECT_ID'][df['GENDER']=='F'].nunique()"
   ]
  },
  {
   "cell_type": "code",
   "execution_count": null,
   "metadata": {},
   "outputs": [],
   "source": []
  },
  {
   "cell_type": "code",
   "execution_count": 25,
   "metadata": {},
   "outputs": [
    {
     "data": {
      "text/html": [
       "<div>\n",
       "<style scoped>\n",
       "    .dataframe tbody tr th:only-of-type {\n",
       "        vertical-align: middle;\n",
       "    }\n",
       "\n",
       "    .dataframe tbody tr th {\n",
       "        vertical-align: top;\n",
       "    }\n",
       "\n",
       "    .dataframe thead th {\n",
       "        text-align: right;\n",
       "    }\n",
       "</style>\n",
       "<table border=\"1\" class=\"dataframe\">\n",
       "  <thead>\n",
       "    <tr style=\"text-align: right;\">\n",
       "      <th></th>\n",
       "      <th>ROW_ID</th>\n",
       "      <th>SUBJECT_ID</th>\n",
       "      <th>HADM_ID</th>\n",
       "      <th>HOSPITAL_EXPIRE_FLAG</th>\n",
       "      <th>HAS_CHARTEVENTS_DATA</th>\n",
       "      <th>LOS</th>\n",
       "    </tr>\n",
       "  </thead>\n",
       "  <tbody>\n",
       "    <tr>\n",
       "      <td>count</td>\n",
       "      <td>53104.000000</td>\n",
       "      <td>53104.000000</td>\n",
       "      <td>53104.000000</td>\n",
       "      <td>53104.0</td>\n",
       "      <td>53104.000000</td>\n",
       "      <td>53104.000000</td>\n",
       "    </tr>\n",
       "    <tr>\n",
       "      <td>mean</td>\n",
       "      <td>29464.483655</td>\n",
       "      <td>33716.979305</td>\n",
       "      <td>149998.949966</td>\n",
       "      <td>0.0</td>\n",
       "      <td>0.970643</td>\n",
       "      <td>10.138174</td>\n",
       "    </tr>\n",
       "    <tr>\n",
       "      <td>std</td>\n",
       "      <td>17023.973980</td>\n",
       "      <td>28096.369912</td>\n",
       "      <td>28875.506563</td>\n",
       "      <td>0.0</td>\n",
       "      <td>0.168808</td>\n",
       "      <td>12.284461</td>\n",
       "    </tr>\n",
       "    <tr>\n",
       "      <td>min</td>\n",
       "      <td>1.000000</td>\n",
       "      <td>2.000000</td>\n",
       "      <td>100001.000000</td>\n",
       "      <td>0.0</td>\n",
       "      <td>0.000000</td>\n",
       "      <td>0.014583</td>\n",
       "    </tr>\n",
       "    <tr>\n",
       "      <td>25%</td>\n",
       "      <td>14722.750000</td>\n",
       "      <td>11973.000000</td>\n",
       "      <td>124992.500000</td>\n",
       "      <td>0.0</td>\n",
       "      <td>1.000000</td>\n",
       "      <td>3.866667</td>\n",
       "    </tr>\n",
       "    <tr>\n",
       "      <td>50%</td>\n",
       "      <td>29424.500000</td>\n",
       "      <td>24088.500000</td>\n",
       "      <td>150038.000000</td>\n",
       "      <td>0.0</td>\n",
       "      <td>1.000000</td>\n",
       "      <td>6.565972</td>\n",
       "    </tr>\n",
       "    <tr>\n",
       "      <td>75%</td>\n",
       "      <td>44178.250000</td>\n",
       "      <td>53714.000000</td>\n",
       "      <td>174943.000000</td>\n",
       "      <td>0.0</td>\n",
       "      <td>1.000000</td>\n",
       "      <td>11.711632</td>\n",
       "    </tr>\n",
       "    <tr>\n",
       "      <td>max</td>\n",
       "      <td>58976.000000</td>\n",
       "      <td>99999.000000</td>\n",
       "      <td>199999.000000</td>\n",
       "      <td>0.0</td>\n",
       "      <td>1.000000</td>\n",
       "      <td>294.660417</td>\n",
       "    </tr>\n",
       "  </tbody>\n",
       "</table>\n",
       "</div>"
      ],
      "text/plain": [
       "             ROW_ID    SUBJECT_ID        HADM_ID  HOSPITAL_EXPIRE_FLAG  \\\n",
       "count  53104.000000  53104.000000   53104.000000               53104.0   \n",
       "mean   29464.483655  33716.979305  149998.949966                   0.0   \n",
       "std    17023.973980  28096.369912   28875.506563                   0.0   \n",
       "min        1.000000      2.000000  100001.000000                   0.0   \n",
       "25%    14722.750000  11973.000000  124992.500000                   0.0   \n",
       "50%    29424.500000  24088.500000  150038.000000                   0.0   \n",
       "75%    44178.250000  53714.000000  174943.000000                   0.0   \n",
       "max    58976.000000  99999.000000  199999.000000                   0.0   \n",
       "\n",
       "       HAS_CHARTEVENTS_DATA           LOS  \n",
       "count          53104.000000  53104.000000  \n",
       "mean               0.970643     10.138174  \n",
       "std                0.168808     12.284461  \n",
       "min                0.000000      0.014583  \n",
       "25%                1.000000      3.866667  \n",
       "50%                1.000000      6.565972  \n",
       "75%                1.000000     11.711632  \n",
       "max                1.000000    294.660417  "
      ]
     },
     "execution_count": 25,
     "metadata": {},
     "output_type": "execute_result"
    }
   ],
   "source": [
    "# Drop LOS < 0 \n",
    "df = df[df['LOS'] > 0]\n",
    "df= df[df['DEATHTIME'].isnull()]\n",
    "df.describe()\n",
    "#df['LOS'][df['LOS'] > 0].describe()"
   ]
  },
  {
   "cell_type": "code",
   "execution_count": 26,
   "metadata": {},
   "outputs": [
    {
     "data": {
      "text/plain": [
       "count    53104.000000\n",
       "mean        10.138174\n",
       "std         12.284461\n",
       "min          0.014583\n",
       "25%          3.866667\n",
       "50%          6.565972\n",
       "75%         11.711632\n",
       "max        294.660417\n",
       "Name: LOS, dtype: float64"
      ]
     },
     "execution_count": 26,
     "metadata": {},
     "output_type": "execute_result"
    }
   ],
   "source": [
    "df['LOS'].describe()"
   ]
  },
  {
   "cell_type": "code",
   "execution_count": 27,
   "metadata": {},
   "outputs": [
    {
     "data": {
      "image/png": "[encoded data removed]",
      "text/plain": [
       "<Figure size 432x288 with 1 Axes>"
      ]
     },
     "metadata": {
      "needs_background": "light"
     },
     "output_type": "display_data"
    }
   ],
   "source": [
    "plt.hist(df['LOS'], bins=150)\n",
    "plt.xlim(0, 50)\n",
    "plt.title('Distribution of LOS')\n",
    "plt.ylabel('Count')\n",
    "plt.xlabel('Length-of-Stay (days)')\n",
    "#plt.tick_params(top=False, right=False) \n",
    "plt.show();"
   ]
  },
  {
   "cell_type": "code",
   "execution_count": 28,
   "metadata": {},
   "outputs": [],
   "source": [
    "df.drop(columns=['DISCHTIME', 'ROW_ID', \n",
    "                'EDREGTIME', 'EDOUTTIME', 'HOSPITAL_EXPIRE_FLAG',\n",
    "                'HAS_CHARTEVENTS_DATA'], inplace=True)"
   ]
  },
  {
   "cell_type": "code",
   "execution_count": 29,
   "metadata": {},
   "outputs": [
    {
     "name": "stderr",
     "output_type": "stream",
     "text": [
      "C:\\Users\\gavry\\AppData\\Local\\Continuum\\anaconda3\\lib\\site-packages\\pandas\\core\\indexing.py:205: SettingWithCopyWarning: \n",
      "A value is trying to be set on a copy of a slice from a DataFrame\n",
      "\n",
      "See the caveats in the documentation: http://pandas.pydata.org/pandas-docs/stable/user_guide/indexing.html#returning-a-view-versus-a-copy\n",
      "  self._setitem_with_indexer(indexer, value)\n"
     ]
    },
    {
     "data": {
      "text/plain": [
       "<matplotlib.axes._subplots.AxesSubplot at 0x164ac454148>"
      ]
     },
     "execution_count": 29,
     "metadata": {},
     "output_type": "execute_result"
    },
    {
     "data": {
      "image/png": "[encoded data removed]",
      "text/plain": [
       "<Figure size 432x288 with 1 Axes>"
      ]
     },
     "metadata": {
      "needs_background": "light"
     },
     "output_type": "display_data"
    }
   ],
   "source": [
    "# Compress the number of ethnicity categories\n",
    "df['ETHNICITY'].replace(regex=r'^ASIAN\\D*', value='ASIAN', inplace=True)\n",
    "df['ETHNICITY'].replace(regex=r'^WHITE\\D*', value='WHITE', inplace=True)\n",
    "df['ETHNICITY'].replace(regex=r'^HISPANIC\\D*', value='HISPANIC/LATINO', inplace=True)\n",
    "df['ETHNICITY'].replace(regex=r'^BLACK\\D*', value='BLK/AFR AMERCAN', inplace=True)\n",
    "df['ETHNICITY'].replace(['UNABLE TO OBTAIN', 'OTHER', 'PATIENT DECLINED TO ANSWER', \n",
    "                         'UNKNOWN/NOT SPECIFIED'], value='OTHER/UNKNOWN', inplace=True)\n",
    "df['ETHNICITY'].loc[~df['ETHNICITY'].isin(df['ETHNICITY'].value_counts().nlargest(5).index.tolist())] = 'OTHER/UNKNOWN'\n",
    "plt.ylabel('Count')\n",
    "df['ETHNICITY'].value_counts().plot(kind=\"bar\")"
   ]
  },
  {
   "cell_type": "code",
   "execution_count": 31,
   "metadata": {},
   "outputs": [
    {
     "data": {
      "text/plain": [
       "<matplotlib.axes._subplots.AxesSubplot at 0x164abdc0808>"
      ]
     },
     "execution_count": 31,
     "metadata": {},
     "output_type": "execute_result"
    },
    {
     "data": {
      "image/png": "[encoded data removed]",
      "text/plain": [
       "<Figure size 432x288 with 1 Axes>"
      ]
     },
     "metadata": {
      "needs_background": "light"
     },
     "output_type": "display_data"
    }
   ],
   "source": [
    "#df['RELIGION'].replace('UNOBTAINABLE', 'UNOBTAINABLE/NOT SPECIFIED', inplace=True)\n",
    "df['RELIGION'].replace('CATHOLIC', 'RELIGIOUS', inplace=True)\n",
    "df['RELIGION'].replace('PROTESTANT QUAKER', 'RELIGIOUS', inplace=True)\n",
    "#df['RELIGION'].replace('NOT SPECIFIED', 'UNOBTAINABLE/NOT SPECIFIED', inplace=True)\n",
    "df['RELIGION'].replace('JEHOVAH\\'S WITNESS', 'RELIGIOUS', inplace=True)\n",
    "df['RELIGION'].replace('GREEK ORTHODOX', 'RELIGIOUS', inplace=True)\n",
    "df['RELIGION'].replace('EPISCOPALIAN', 'RELIGIOUS', inplace=True)\n",
    "df['RELIGION'].replace('CHRISTIAN SCIENTIST', 'RELIGIOUS', inplace=True)\n",
    "df['RELIGION'].replace('UNITARIAN-UNIVERSALIST', 'RELIGIOUS', inplace=True)\n",
    "df['RELIGION'].replace('METHODIST', 'RELIGIOUS', inplace=True)\n",
    "df['RELIGION'].replace('HEBREW', 'RELIGIOUS', inplace=True)\n",
    "df['RELIGION'].replace('BAPTIST', 'RELIGIOUS', inplace=True)\n",
    "df['RELIGION'].replace('7TH DAY ADVENTIST', 'RELIGIOUS', inplace=True)\n",
    "df['RELIGION'].replace('ROMANIAN EAST. ORTH', 'RELIGIOUS', inplace=True)\n",
    "df['RELIGION'].replace('JEWISH', 'RELIGIOUS', inplace=True)\n",
    "df['RELIGION'].replace('BUDDHIST', 'RELIGIOUS', inplace=True)\n",
    "df['RELIGION'].replace('OTHER', 'RELIGIOUS', inplace=True)\n",
    "df['RELIGION'].replace('HINDU', 'RELIGIOUS', inplace=True)\n",
    "df['RELIGION'].replace('MUSLIM', 'RELIGIOUS', inplace=True)\n",
    "df['RELIGION'].replace('LUTHERAN', 'RELIGIOUS', inplace=True)\n",
    "df['RELIGION'].replace('NOT SPECIFIED', 'NOT SPECIFIED', inplace=True)\n",
    "\n",
    "plt.ylabel('Count')\n",
    "df['RELIGION'].value_counts().plot(kind=\"bar\")"
   ]
  },
  {
   "cell_type": "code",
   "execution_count": 90,
   "metadata": {},
   "outputs": [],
   "source": [
    "df['MARITAL_STATUS'] = df['MARITAL_STATUS'].fillna('UNKNOWN (DEFAULT)')"
   ]
  },
  {
   "cell_type": "code",
   "execution_count": 91,
   "metadata": {},
   "outputs": [],
   "source": [
    "df.to_csv('data_adm.csv',index=False)"
   ]
  },
  {
   "cell_type": "code",
   "execution_count": 92,
   "metadata": {},
   "outputs": [
    {
     "data": {
      "text/plain": [
       "SUBJECT_ID     29423.326110\n",
       "HADM_ID       150307.550790\n",
       "DEATHTIME               NaN\n",
       "LOS               10.756127\n",
       "dtype: float64"
      ]
     },
     "execution_count": 92,
     "metadata": {},
     "output_type": "execute_result"
    }
   ],
   "source": [
    "df[df['ETHNICITY']=='OTHER/UNKNOWN'].mean()"
   ]
  },
  {
   "cell_type": "code",
   "execution_count": 93,
   "metadata": {},
   "outputs": [
    {
     "data": {
      "text/plain": [
       "array(['UNOBTAINABLE', 'Religious', 'NOT SPECIFIED', nan], dtype=object)"
      ]
     },
     "execution_count": 93,
     "metadata": {},
     "output_type": "execute_result"
    }
   ],
   "source": [
    "df['RELIGION'].unique()"
   ]
  },
  {
   "cell_type": "code",
   "execution_count": 94,
   "metadata": {},
   "outputs": [
    {
     "data": {
      "text/plain": [
       "SUBJECT_ID     36755.030648\n",
       "HADM_ID       149983.464004\n",
       "DEATHTIME               NaN\n",
       "LOS                9.946889\n",
       "dtype: float64"
      ]
     },
     "execution_count": 94,
     "metadata": {},
     "output_type": "execute_result"
    }
   ],
   "source": [
    "df[df['INSURANCE']=='Medicare'].mean()"
   ]
  },
  {
   "cell_type": "code",
   "execution_count": 103,
   "metadata": {},
   "outputs": [
    {
     "data": {
      "text/plain": [
       "<matplotlib.axes._subplots.AxesSubplot at 0x2d129cf8948>"
      ]
     },
     "execution_count": 103,
     "metadata": {},
     "output_type": "execute_result"
    },
    {
     "data": {
      "image/png": "[encoded data removed]",
      "text/plain": [
       "<Figure size 1440x720 with 1 Axes>"
      ]
     },
     "metadata": {
      "needs_background": "light"
     },
     "output_type": "display_data"
    }
   ],
   "source": [
    "#df = df[df['LOS'] < 50]\n",
    "#plt.rcParams[\"figure.figsize\"] = (20,10)\n",
    "df.groupby(['LOS']).size().plot.bar()"
   ]
  },
  {
   "cell_type": "code",
   "execution_count": 119,
   "metadata": {},
   "outputs": [
    {
     "data": {
      "text/plain": [
       "<matplotlib.axes._subplots.AxesSubplot at 0x2d1b2373fc8>"
      ]
     },
     "execution_count": 119,
     "metadata": {},
     "output_type": "execute_result"
    },
    {
     "data": {
      "image/png": "[encoded data removed]",
      "text/plain": [
       "<Figure size 1440x720 with 1 Axes>"
      ]
     },
     "metadata": {
      "needs_background": "light"
     },
     "output_type": "display_data"
    }
   ],
   "source": [
    "plt.ylabel('Count')\n",
    "df['INSURANCE'].value_counts().plot(kind=\"bar\")"
   ]
  },
  {
   "cell_type": "code",
   "execution_count": 121,
   "metadata": {},
   "outputs": [
    {
     "data": {
      "text/plain": [
       "<matplotlib.axes._subplots.AxesSubplot at 0x2d1b2ab0fc8>"
      ]
     },
     "execution_count": 121,
     "metadata": {},
     "output_type": "execute_result"
    },
    {
     "data": {
      "image/png": "[encoded data removed]",
      "text/plain": [
       "<Figure size 360x360 with 1 Axes>"
      ]
     },
     "metadata": {
      "needs_background": "light"
     },
     "output_type": "display_data"
    }
   ],
   "source": [
    "\n",
    "plt.ylabel('Count')\n",
    "df['ADMISSION_TYPE'].value_counts().plot(kind=\"bar\")"
   ]
  },
  {
   "cell_type": "code",
   "execution_count": null,
   "metadata": {},
   "outputs": [],
   "source": []
  }
 ],
 "metadata": {
  "kernelspec": {
   "display_name": "Python 3",
   "language": "python",
   "name": "python3"
  },
  "language_info": {
   "codemirror_mode": {
    "name": "ipython",
    "version": 3
   },
   "file_extension": ".py",
   "mimetype": "text/x-python",
   "name": "python",
   "nbconvert_exporter": "python",
   "pygments_lexer": "ipython3",
   "version": "3.7.4"
  }
 },
 "nbformat": 4,
 "nbformat_minor": 2
}
