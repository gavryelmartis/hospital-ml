{
 "cells": [
  {
   "cell_type": "code",
   "execution_count": 15,
   "metadata": {},
   "outputs": [],
   "source": [
    "import pandas as pd\n",
    "import numpy as np\n",
    "import matplotlib.pyplot as plt"
   ]
  },
  {
   "cell_type": "code",
   "execution_count": 16,
   "metadata": {},
   "outputs": [
    {
     "name": "stderr",
     "output_type": "stream",
     "text": [
      "C:\\Users\\gavry\\AppData\\Local\\Continuum\\anaconda3\\lib\\site-packages\\IPython\\core\\interactiveshell.py:3058: DtypeWarning: Columns (4,5,7,11) have mixed types. Specify dtype option on import or set low_memory=False.\n",
      "  interactivity=interactivity, compiler=compiler, result=result)\n"
     ]
    },
    {
     "data": {
      "text/plain": [
       "2012"
      ]
     },
     "execution_count": 16,
     "metadata": {},
     "output_type": "execute_result"
    }
   ],
   "source": [
    "df_cpt = pd.read_csv('files/cptevents.csv')\n",
    "df_cpt['CPT_NUMBER'].nunique()"
   ]
  },
  {
   "cell_type": "code",
   "execution_count": 17,
   "metadata": {},
   "outputs": [
    {
     "data": {
      "text/plain": [
       "<matplotlib.axes._subplots.AxesSubplot at 0x2f1074b9a48>"
      ]
     },
     "execution_count": 17,
     "metadata": {},
     "output_type": "execute_result"
    },
    {
     "data": {
      "image/png": "[encoded data removed]",
      "text/plain": [
       "<Figure size 432x288 with 1 Axes>"
      ]
     },
     "metadata": {
      "needs_background": "light"
     },
     "output_type": "display_data"
    }
   ],
   "source": [
    "#df_cpt[df_cpt['SUBSECTIONHEADER']=='Evaluation and management']\n",
    "df_ser = pd.read_csv('files/services.csv')\n",
    "plt.ylabel('Count')\n",
    "#plt.title('Distribution of LOS')\n",
    "df_cpt['SECTIONHEADER'].value_counts().plot(kind=\"bar\")"
   ]
  },
  {
   "cell_type": "code",
   "execution_count": 11,
   "metadata": {},
   "outputs": [
    {
     "data": {
      "text/html": [
       "<div>\n",
       "<style scoped>\n",
       "    .dataframe tbody tr th:only-of-type {\n",
       "        vertical-align: middle;\n",
       "    }\n",
       "\n",
       "    .dataframe tbody tr th {\n",
       "        vertical-align: top;\n",
       "    }\n",
       "\n",
       "    .dataframe thead th {\n",
       "        text-align: right;\n",
       "    }\n",
       "</style>\n",
       "<table border=\"1\" class=\"dataframe\">\n",
       "  <thead>\n",
       "    <tr style=\"text-align: right;\">\n",
       "      <th></th>\n",
       "      <th>Anesthesia</th>\n",
       "      <th>Emerging technology</th>\n",
       "      <th>Evaluation and management</th>\n",
       "      <th>Medicine</th>\n",
       "      <th>Pathology and laboratory</th>\n",
       "      <th>Radiology</th>\n",
       "      <th>Surgery</th>\n",
       "      <th>HADM_ID</th>\n",
       "    </tr>\n",
       "  </thead>\n",
       "  <tbody>\n",
       "    <tr>\n",
       "      <td>0</td>\n",
       "      <td>0.0</td>\n",
       "      <td>0.0</td>\n",
       "      <td>8.0</td>\n",
       "      <td>0.0</td>\n",
       "      <td>0.0</td>\n",
       "      <td>0.0</td>\n",
       "      <td>0.0</td>\n",
       "      <td>100001</td>\n",
       "    </tr>\n",
       "    <tr>\n",
       "      <td>1</td>\n",
       "      <td>0.0</td>\n",
       "      <td>0.0</td>\n",
       "      <td>6.0</td>\n",
       "      <td>0.0</td>\n",
       "      <td>0.0</td>\n",
       "      <td>1.0</td>\n",
       "      <td>1.0</td>\n",
       "      <td>100003</td>\n",
       "    </tr>\n",
       "    <tr>\n",
       "      <td>2</td>\n",
       "      <td>0.0</td>\n",
       "      <td>0.0</td>\n",
       "      <td>10.0</td>\n",
       "      <td>0.0</td>\n",
       "      <td>0.0</td>\n",
       "      <td>0.0</td>\n",
       "      <td>0.0</td>\n",
       "      <td>100006</td>\n",
       "    </tr>\n",
       "    <tr>\n",
       "      <td>3</td>\n",
       "      <td>0.0</td>\n",
       "      <td>0.0</td>\n",
       "      <td>5.0</td>\n",
       "      <td>0.0</td>\n",
       "      <td>0.0</td>\n",
       "      <td>0.0</td>\n",
       "      <td>0.0</td>\n",
       "      <td>100007</td>\n",
       "    </tr>\n",
       "    <tr>\n",
       "      <td>4</td>\n",
       "      <td>0.0</td>\n",
       "      <td>0.0</td>\n",
       "      <td>4.0</td>\n",
       "      <td>1.0</td>\n",
       "      <td>0.0</td>\n",
       "      <td>0.0</td>\n",
       "      <td>6.0</td>\n",
       "      <td>100009</td>\n",
       "    </tr>\n",
       "    <tr>\n",
       "      <td>...</td>\n",
       "      <td>...</td>\n",
       "      <td>...</td>\n",
       "      <td>...</td>\n",
       "      <td>...</td>\n",
       "      <td>...</td>\n",
       "      <td>...</td>\n",
       "      <td>...</td>\n",
       "      <td>...</td>\n",
       "    </tr>\n",
       "    <tr>\n",
       "      <td>44143</td>\n",
       "      <td>0.0</td>\n",
       "      <td>0.0</td>\n",
       "      <td>8.0</td>\n",
       "      <td>15.0</td>\n",
       "      <td>0.0</td>\n",
       "      <td>0.0</td>\n",
       "      <td>0.0</td>\n",
       "      <td>199993</td>\n",
       "    </tr>\n",
       "    <tr>\n",
       "      <td>44144</td>\n",
       "      <td>0.0</td>\n",
       "      <td>0.0</td>\n",
       "      <td>3.0</td>\n",
       "      <td>3.0</td>\n",
       "      <td>0.0</td>\n",
       "      <td>0.0</td>\n",
       "      <td>0.0</td>\n",
       "      <td>199994</td>\n",
       "    </tr>\n",
       "    <tr>\n",
       "      <td>44145</td>\n",
       "      <td>0.0</td>\n",
       "      <td>0.0</td>\n",
       "      <td>0.0</td>\n",
       "      <td>1.0</td>\n",
       "      <td>0.0</td>\n",
       "      <td>0.0</td>\n",
       "      <td>0.0</td>\n",
       "      <td>199995</td>\n",
       "    </tr>\n",
       "    <tr>\n",
       "      <td>44146</td>\n",
       "      <td>0.0</td>\n",
       "      <td>0.0</td>\n",
       "      <td>0.0</td>\n",
       "      <td>1.0</td>\n",
       "      <td>0.0</td>\n",
       "      <td>0.0</td>\n",
       "      <td>0.0</td>\n",
       "      <td>199998</td>\n",
       "    </tr>\n",
       "    <tr>\n",
       "      <td>44147</td>\n",
       "      <td>0.0</td>\n",
       "      <td>0.0</td>\n",
       "      <td>7.0</td>\n",
       "      <td>0.0</td>\n",
       "      <td>0.0</td>\n",
       "      <td>0.0</td>\n",
       "      <td>0.0</td>\n",
       "      <td>199999</td>\n",
       "    </tr>\n",
       "  </tbody>\n",
       "</table>\n",
       "<p>44148 rows × 8 columns</p>\n",
       "</div>"
      ],
      "text/plain": [
       "       Anesthesia  Emerging technology  Evaluation and management  Medicine  \\\n",
       "0             0.0                  0.0                        8.0       0.0   \n",
       "1             0.0                  0.0                        6.0       0.0   \n",
       "2             0.0                  0.0                       10.0       0.0   \n",
       "3             0.0                  0.0                        5.0       0.0   \n",
       "4             0.0                  0.0                        4.0       1.0   \n",
       "...           ...                  ...                        ...       ...   \n",
       "44143         0.0                  0.0                        8.0      15.0   \n",
       "44144         0.0                  0.0                        3.0       3.0   \n",
       "44145         0.0                  0.0                        0.0       1.0   \n",
       "44146         0.0                  0.0                        0.0       1.0   \n",
       "44147         0.0                  0.0                        7.0       0.0   \n",
       "\n",
       "       Pathology and laboratory  Radiology  Surgery  HADM_ID  \n",
       "0                           0.0        0.0      0.0   100001  \n",
       "1                           0.0        1.0      1.0   100003  \n",
       "2                           0.0        0.0      0.0   100006  \n",
       "3                           0.0        0.0      0.0   100007  \n",
       "4                           0.0        0.0      6.0   100009  \n",
       "...                         ...        ...      ...      ...  \n",
       "44143                       0.0        0.0      0.0   199993  \n",
       "44144                       0.0        0.0      0.0   199994  \n",
       "44145                       0.0        0.0      0.0   199995  \n",
       "44146                       0.0        0.0      0.0   199998  \n",
       "44147                       0.0        0.0      0.0   199999  \n",
       "\n",
       "[44148 rows x 8 columns]"
      ]
     },
     "execution_count": 11,
     "metadata": {},
     "output_type": "execute_result"
    }
   ],
   "source": [
    "#df_cat.columns = ['HADM_ID','no_CPT']\n",
    "hadm_list = df_cpt.groupby('HADM_ID')['SECTIONHEADER'].apply(list).reset_index()\n",
    "hadm_item = pd.get_dummies(hadm_list['SECTIONHEADER'].apply(pd.Series).stack()).sum(level=0)\n",
    "df_cat = hadm_item.join(hadm_list['HADM_ID'], how=\"outer\")\n",
    "df_cat"
   ]
  },
  {
   "cell_type": "code",
   "execution_count": 12,
   "metadata": {},
   "outputs": [],
   "source": [
    "#df_cat['CPT_evaluation&management'] = df_group['SECTIONHEADER'].transform(lambda x: sum(x=='Evaluation and management'))\n",
    "#df_cat['CPT_surgery'] = df_group['SECTIONHEADER'].transform(lambda x: sum(x=='Surgery'))\n",
    "#df_cat['CPT_radiology'] = df_group['SECTIONHEADER'].transform(lambda x: sum(x=='Radiology'))\n",
    "#df_cat['CPT_anesthesia'] = df_group['SECTIONHEADER'].transform(lambda x: sum(x=='Anesthesia'))\n",
    "#df_cat['CPT_emergingtechnology'] = df_group['SECTIONHEADER'].transform(lambda x: sum(x=='Emerging technology'))\n",
    "#df_cat['CPT_pathology&laboratory'] = df_group['SECTIONHEADER'].transform(lambda x: sum(x=='Pathology and laboratory'))\n",
    "#df_cat['CPT_medicine'] = df_group['SECTIONHEADER'].transform(lambda x: sum(x=='Medicine'))\n",
    "#df_cat.to_csv('merge_CPT.csv',index=False)\n",
    "#df_cat.head(50)"
   ]
  },
  {
   "cell_type": "code",
   "execution_count": 13,
   "metadata": {},
   "outputs": [],
   "source": [
    "df = pd.read_csv('merge_diag_pat_proc_icu.csv')\n",
    "df = df.merge(df_cat, how='outer', on='HADM_ID')\n"
   ]
  },
  {
   "cell_type": "code",
   "execution_count": 14,
   "metadata": {},
   "outputs": [],
   "source": [
    "df.to_csv('merge_diag_pat_proc_icu_cpt.csv',index=False)"
   ]
  },
  {
   "cell_type": "code",
   "execution_count": null,
   "metadata": {},
   "outputs": [],
   "source": []
  }
 ],
 "metadata": {
  "kernelspec": {
   "display_name": "Python 3",
   "language": "python",
   "name": "python3"
  },
  "language_info": {
   "codemirror_mode": {
    "name": "ipython",
    "version": 3
   },
   "file_extension": ".py",
   "mimetype": "text/x-python",
   "name": "python",
   "nbconvert_exporter": "python",
   "pygments_lexer": "ipython3",
   "version": "3.7.4"
  }
 },
 "nbformat": 4,
 "nbformat_minor": 2
}
